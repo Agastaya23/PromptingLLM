{
  "cells": [
    {
      "cell_type": "code",
      "execution_count": 1,
      "metadata": {
        "colab": {
          "base_uri": "https://localhost:8080/"
        },
        "id": "U-hlb3r0vemt",
        "outputId": "8199c493-f7b0-467a-af98-fc86c13c19c0"
      },
      "outputs": [
        {
          "name": "stdout",
          "output_type": "stream",
          "text": [
            "Wed Apr 10 05:14:27 2024       \n",
            "+---------------------------------------------------------------------------------------+\n",
            "| NVIDIA-SMI 535.104.05             Driver Version: 535.104.05   CUDA Version: 12.2     |\n",
            "|-----------------------------------------+----------------------+----------------------+\n",
            "| GPU  Name                 Persistence-M | Bus-Id        Disp.A | Volatile Uncorr. ECC |\n",
            "| Fan  Temp   Perf          Pwr:Usage/Cap |         Memory-Usage | GPU-Util  Compute M. |\n",
            "|                                         |                      |               MIG M. |\n",
            "|=========================================+======================+======================|\n",
            "|   0  Tesla T4                       Off | 00000000:00:04.0 Off |                    0 |\n",
            "| N/A   42C    P8               9W /  70W |      0MiB / 15360MiB |      0%      Default |\n",
            "|                                         |                      |                  N/A |\n",
            "+-----------------------------------------+----------------------+----------------------+\n",
            "                                                                                         \n",
            "+---------------------------------------------------------------------------------------+\n",
            "| Processes:                                                                            |\n",
            "|  GPU   GI   CI        PID   Type   Process name                            GPU Memory |\n",
            "|        ID   ID                                                             Usage      |\n",
            "|=======================================================================================|\n",
            "|  No running processes found                                                           |\n",
            "+---------------------------------------------------------------------------------------+\n"
          ]
        }
      ],
      "source": [
        "!nvidia-smi"
      ]
    },
    {
      "cell_type": "code",
      "execution_count": 2,
      "metadata": {
        "colab": {
          "base_uri": "https://localhost:8080/"
        },
        "id": "hIBbLjHawTlw",
        "outputId": "e2d16a31-9ac3-458a-c2b2-fcaf759530de"
      },
      "outputs": [
        {
          "name": "stdout",
          "output_type": "stream",
          "text": [
            "Architecture:            x86_64\n",
            "  CPU op-mode(s):        32-bit, 64-bit\n",
            "  Address sizes:         46 bits physical, 48 bits virtual\n",
            "  Byte Order:            Little Endian\n",
            "CPU(s):                  2\n",
            "  On-line CPU(s) list:   0,1\n",
            "Vendor ID:               GenuineIntel\n",
            "  Model name:            Intel(R) Xeon(R) CPU @ 2.20GHz\n",
            "    CPU family:          6\n",
            "    Model:               79\n",
            "    Thread(s) per core:  2\n",
            "    Core(s) per socket:  1\n",
            "    Socket(s):           1\n",
            "    Stepping:            0\n",
            "    BogoMIPS:            4399.99\n",
            "    Flags:               fpu vme de pse tsc msr pae mce cx8 apic sep mtrr pge mca cmov pat pse36 clf\n",
            "                         lush mmx fxsr sse sse2 ss ht syscall nx pdpe1gb rdtscp lm constant_tsc rep_\n",
            "                         good nopl xtopology nonstop_tsc cpuid tsc_known_freq pni pclmulqdq ssse3 fm\n",
            "                         a cx16 pcid sse4_1 sse4_2 x2apic movbe popcnt aes xsave avx f16c rdrand hyp\n",
            "                         ervisor lahf_lm abm 3dnowprefetch invpcid_single ssbd ibrs ibpb stibp fsgsb\n",
            "                         ase tsc_adjust bmi1 hle avx2 smep bmi2 erms invpcid rtm rdseed adx smap xsa\n",
            "                         veopt arat md_clear arch_capabilities\n",
            "Virtualization features: \n",
            "  Hypervisor vendor:     KVM\n",
            "  Virtualization type:   full\n",
            "Caches (sum of all):     \n",
            "  L1d:                   32 KiB (1 instance)\n",
            "  L1i:                   32 KiB (1 instance)\n",
            "  L2:                    256 KiB (1 instance)\n",
            "  L3:                    55 MiB (1 instance)\n",
            "NUMA:                    \n",
            "  NUMA node(s):          1\n",
            "  NUMA node0 CPU(s):     0,1\n",
            "Vulnerabilities:         \n",
            "  Gather data sampling:  Not affected\n",
            "  Itlb multihit:         Not affected\n",
            "  L1tf:                  Mitigation; PTE Inversion\n",
            "  Mds:                   Vulnerable; SMT Host state unknown\n",
            "  Meltdown:              Vulnerable\n",
            "  Mmio stale data:       Vulnerable\n",
            "  Retbleed:              Vulnerable\n",
            "  Spec rstack overflow:  Not affected\n",
            "  Spec store bypass:     Vulnerable\n",
            "  Spectre v1:            Vulnerable: __user pointer sanitization and usercopy barriers only; no swap\n",
            "                         gs barriers\n",
            "  Spectre v2:            Vulnerable, IBPB: disabled, STIBP: disabled, PBRSB-eIBRS: Not affected\n",
            "  Srbds:                 Not affected\n",
            "  Tsx async abort:       Vulnerable\n"
          ]
        }
      ],
      "source": [
        "!lscpu"
      ]
    },
    {
      "cell_type": "code",
      "execution_count": 3,
      "metadata": {
        "colab": {
          "base_uri": "https://localhost:8080/"
        },
        "id": "FSxX-VO5ya0c",
        "outputId": "fc3b61c5-e765-4768-c56f-b02ac1536b11"
      },
      "outputs": [
        {
          "name": "stdout",
          "output_type": "stream",
          "text": [
            "Collecting ctransformers\n",
            "  Downloading ctransformers-0.2.27.tar.gz (376 kB)\n",
            "\u001b[2K     \u001b[90m━━━━━━━━━━━━━━━━━━━━━━━━━━━━━━━━━━━━━━━━\u001b[0m \u001b[32m376.1/376.1 kB\u001b[0m \u001b[31m4.7 MB/s\u001b[0m eta \u001b[36m0:00:00\u001b[0m\n",
            "\u001b[?25h  Installing build dependencies ... \u001b[?25l\u001b[?25hdone\n",
            "  Getting requirements to build wheel ... \u001b[?25l\u001b[?25hdone\n",
            "  Preparing metadata (pyproject.toml) ... \u001b[?25l\u001b[?25hdone\n",
            "Requirement already satisfied: huggingface-hub in /usr/local/lib/python3.10/dist-packages (from ctransformers) (0.20.3)\n",
            "Requirement already satisfied: py-cpuinfo<10.0.0,>=9.0.0 in /usr/local/lib/python3.10/dist-packages (from ctransformers) (9.0.0)\n",
            "Requirement already satisfied: filelock in /usr/local/lib/python3.10/dist-packages (from huggingface-hub->ctransformers) (3.13.3)\n",
            "Requirement already satisfied: fsspec>=2023.5.0 in /usr/local/lib/python3.10/dist-packages (from huggingface-hub->ctransformers) (2023.6.0)\n",
            "Requirement already satisfied: requests in /usr/local/lib/python3.10/dist-packages (from huggingface-hub->ctransformers) (2.31.0)\n",
            "Requirement already satisfied: tqdm>=4.42.1 in /usr/local/lib/python3.10/dist-packages (from huggingface-hub->ctransformers) (4.66.2)\n",
            "Requirement already satisfied: pyyaml>=5.1 in /usr/local/lib/python3.10/dist-packages (from huggingface-hub->ctransformers) (6.0.1)\n",
            "Requirement already satisfied: typing-extensions>=3.7.4.3 in /usr/local/lib/python3.10/dist-packages (from huggingface-hub->ctransformers) (4.10.0)\n",
            "Requirement already satisfied: packaging>=20.9 in /usr/local/lib/python3.10/dist-packages (from huggingface-hub->ctransformers) (24.0)\n",
            "Requirement already satisfied: charset-normalizer<4,>=2 in /usr/local/lib/python3.10/dist-packages (from requests->huggingface-hub->ctransformers) (3.3.2)\n",
            "Requirement already satisfied: idna<4,>=2.5 in /usr/local/lib/python3.10/dist-packages (from requests->huggingface-hub->ctransformers) (3.6)\n",
            "Requirement already satisfied: urllib3<3,>=1.21.1 in /usr/local/lib/python3.10/dist-packages (from requests->huggingface-hub->ctransformers) (2.0.7)\n",
            "Requirement already satisfied: certifi>=2017.4.17 in /usr/local/lib/python3.10/dist-packages (from requests->huggingface-hub->ctransformers) (2024.2.2)\n",
            "Building wheels for collected packages: ctransformers\n",
            "  Building wheel for ctransformers (pyproject.toml) ... \u001b[?25l\u001b[?25hdone\n",
            "  Created wheel for ctransformers: filename=ctransformers-0.2.27-cp310-cp310-linux_x86_64.whl size=2336802 sha256=abbd553e639c76a06c09969b524f1370db588421a1f5783d04184103324beea7\n",
            "  Stored in directory: /root/.cache/pip/wheels/dd/54/e9/32364da8eee84a2b0b412394983c15add18816c507e90f02d8\n",
            "Successfully built ctransformers\n",
            "Installing collected packages: ctransformers\n",
            "Successfully installed ctransformers-0.2.27\n"
          ]
        }
      ],
      "source": [
        "!CT_CUBLAS=1 pip install ctransformers --no-binary ctransformers"
      ]
    },
    {
      "cell_type": "code",
      "execution_count": 4,
      "metadata": {
        "id": "ZevxnXuWjGJP"
      },
      "outputs": [],
      "source": [
        "# choose your champion\n",
        "#model_id = \"TheBloke/Llama-2-7B-GGML\"\n",
        "model_id = \"TheBloke/Llama-2-7B-chat-GGML\"\n",
        "#model_id = \"TheBloke/Llama-2-13B-GGML\"\n",
        "#model_id = \"TheBloke/Llama-2-13B-chat-GGML\""
      ]
    },
    {
      "cell_type": "code",
      "execution_count": 14,
      "metadata": {
        "colab": {
          "base_uri": "https://localhost:8080/",
          "height": 81,
          "referenced_widgets": [
            "f6e6ea248b9041a19fb35079d365cc99",
            "e64e26a0782b4a959bbff53b3698a218",
            "5611fe92ba0142c6819c046571e1e0db",
            "bc33302f60e147dbba0db4c339885103",
            "8f3d62d13cee456584974dc7687b7e06",
            "bdea712db5dd4f0aa11032bc60b9ba7a",
            "04030d4afb92437988e260ccc896a78e",
            "5a76736cb3df4194ae554ac80dd56aef",
            "2018e1d8c06946728cd3f403fcef4192",
            "adc293b3893046138baca0c7469192a1",
            "fda2722fe0734d428a4decfcbe850bb1",
            "ff3d633cdc7f46df86683aac28aa08be",
            "43bc6c6ad0da43a182e9dda4916fba30",
            "85d113b815e846a6bb0510b822dae270",
            "7adbc7ed0aa941019d7fd94f83dc3613",
            "aedd21464ae24993ae090af9ab890ae5",
            "8f5342492fac4188afbcfa15d548ef8a",
            "f593783c224842af8ff21941d8d671a9",
            "1b44d294011e44209cc71b629145d21a",
            "09cb1b687b414d8d82c2822f7179b645",
            "0c2be22df6ad429c988d098f2e925921",
            "9da5b530524140eab1821ed450dd9c93"
          ]
        },
        "id": "F4zXrO1Ehv3N",
        "outputId": "fb8d70cc-4c37-4ff1-8636-5d9e6a27ebb8"
      },
      "outputs": [
        {
          "data": {
            "application/vnd.jupyter.widget-view+json": {
              "model_id": "f6e6ea248b9041a19fb35079d365cc99",
              "version_major": 2,
              "version_minor": 0
            },
            "text/plain": [
              "Fetching 1 files:   0%|          | 0/1 [00:00<?, ?it/s]"
            ]
          },
          "metadata": {},
          "output_type": "display_data"
        },
        {
          "data": {
            "application/vnd.jupyter.widget-view+json": {
              "model_id": "ff3d633cdc7f46df86683aac28aa08be",
              "version_major": 2,
              "version_minor": 0
            },
            "text/plain": [
              "Fetching 1 files:   0%|          | 0/1 [00:00<?, ?it/s]"
            ]
          },
          "metadata": {},
          "output_type": "display_data"
        }
      ],
      "source": [
        "from ctransformers import AutoModelForCausalLM\n",
        "\n",
        "config = {'max_new_tokens': 256, 'repetition_penalty': 1.1, 'temperature': 0.1, 'stream': True}\n",
        "\n",
        "llm = AutoModelForCausalLM.from_pretrained(model_id,\n",
        "                                           model_type=\"llama\",\n",
        "                                           #lib='avx2', for cpu use\n",
        "                                           gpu_layers=110, #110 for 7b, 130 for 13b\n",
        "                                           **config\n",
        "                                           )"
      ]
    },
    {
      "cell_type": "markdown",
      "metadata": {
        "id": "TnWlnPuV4K29"
      },
      "source": [
        "## LLAMA-2-7B-Chat tests"
      ]
    },
    {
      "cell_type": "markdown",
      "metadata": {
        "id": "iA7q--qmxJT0"
      },
      "source": [
        "### Tokenizer"
      ]
    },
    {
      "cell_type": "code",
      "execution_count": null,
      "metadata": {
        "id": "MHL-6-iGzgO5"
      },
      "outputs": [],
      "source": [
        "prompt=\"\"\"Write a poem to help me remember the first 10 elements on the periodic table, giving each\n",
        "element its own line.\"\"\""
      ]
    },
    {
      "cell_type": "code",
      "execution_count": null,
      "metadata": {
        "id": "N1CDKtF_w7qt"
      },
      "outputs": [],
      "source": [
        "tokens = llm.tokenize(prompt)"
      ]
    },
    {
      "cell_type": "code",
      "execution_count": null,
      "metadata": {
        "colab": {
          "base_uri": "https://localhost:8080/"
        },
        "id": "tVKptuwQxHBR",
        "outputId": "0b17f8da-d4a9-4e45-902c-ff564bb2fcc6"
      },
      "outputs": [
        {
          "data": {
            "text/plain": [
              "[1,\n",
              " 6113,\n",
              " 263,\n",
              " 26576,\n",
              " 304,\n",
              " 1371,\n",
              " 592,\n",
              " 6456,\n",
              " 278,\n",
              " 937,\n",
              " 29871,\n",
              " 29896,\n",
              " 29900,\n",
              " 3161,\n",
              " 373,\n",
              " 278,\n",
              " 29591,\n",
              " 1591,\n",
              " 29892,\n",
              " 6820,\n",
              " 1269,\n",
              " 13,\n",
              " 5029,\n",
              " 967,\n",
              " 1914,\n",
              " 1196,\n",
              " 29889]"
            ]
          },
          "execution_count": 5,
          "metadata": {},
          "output_type": "execute_result"
        }
      ],
      "source": [
        "tokens"
      ]
    },
    {
      "cell_type": "markdown",
      "metadata": {
        "id": "kgTA3z-9yLiG"
      },
      "source": [
        "### Pipeline"
      ]
    },
    {
      "cell_type": "code",
      "execution_count": null,
      "metadata": {
        "colab": {
          "base_uri": "https://localhost:8080/",
          "height": 122
        },
        "id": "wItUOIoTxskA",
        "outputId": "489b6759-9aa2-4c06-f395-90da4e3bd66d"
      },
      "outputs": [
        {
          "data": {
            "application/vnd.google.colaboratory.intrinsic+json": {
              "type": "string"
            },
            "text/plain": [
              "'\\n\\nI. Hydrogen (H)\\nII. Helium (He)\\nIII. Lithium (Li)\\nIV. Beryllium (Be)\\nV. Boron (B)\\nVI. Carbon (C)\\nVII. Nitrogen (N)\\nVIII. Oxygen (O)\\nIX. Fluorine (F)\\nX. Neon (Ne)\\n\\nEach element has its own unique properties and characteristics,\\nFrom the number of protons in their nucleus to how they bond with other elements.\\nHydrogen is lightest, helium is second, lithium is third,\\nBeryllium is toxic, boron is a vital nutrient,\\nCarbon is the basis of life, nitrogen is in the air we breathe,\\nOxygen is what makes water wet, fluorine is a poisonous gas,\\nNeon glows with an otherworldly light.'"
            ]
          },
          "execution_count": 6,
          "metadata": {},
          "output_type": "execute_result"
        }
      ],
      "source": [
        "# 'pipeline' execution\n",
        "llm(prompt, stream=False)"
      ]
    },
    {
      "cell_type": "code",
      "execution_count": null,
      "metadata": {
        "colab": {
          "base_uri": "https://localhost:8080/",
          "height": 87
        },
        "id": "TVUiwWls3uWC",
        "outputId": "98fd3994-a31f-416f-9d3b-f7bf86625fb0"
      },
      "outputs": [
        {
          "data": {
            "application/vnd.google.colaboratory.intrinsic+json": {
              "type": "string"
            },
            "text/plain": [
              "'\\n\\nO Brasil foi descoberto em 1500, quando os exploradores europeus chegaram ao litoral do país. A descoberta do Brasil é creditada a Fernão de Noronha, que foi o primeiro a navegar pelo litoral da região. No entanto, é importante destacar que a presença indígena no território brasileiro remonta a 800 anos antes da chegada dos colonizadores europeus.'"
            ]
          },
          "execution_count": 10,
          "metadata": {},
          "output_type": "execute_result"
        }
      ],
      "source": [
        "prompt2 = \"\"\"Quando e por quem o Brasil foi descoberto?\"\"\"\n",
        "llm(prompt2, stream=False)"
      ]
    },
    {
      "cell_type": "markdown",
      "metadata": {
        "id": "C3po3AlayOAA"
      },
      "source": [
        "### Generate with stream execution"
      ]
    },
    {
      "cell_type": "code",
      "execution_count": null,
      "metadata": {
        "colab": {
          "base_uri": "https://localhost:8080/"
        },
        "id": "dQkt0pnXxhlk",
        "outputId": "e3eeab64-cc4a-44d5-8b88-93887f878410"
      },
      "outputs": [
        {
          "name": "stdout",
          "output_type": "stream",
          "text": [
            "----Start Generation----\n",
            "\n",
            "\n",
            "I. Hydrogen (H)\n",
            "II. Helium (He)\n",
            "III. Lithium (Li)\n",
            "IV. Beryllium (Be)\n",
            "V. Boron (B)\n",
            "VI. Carbon (C)\n",
            "VII. Nitrogen (N)\n",
            "VIII. Oxygen (O)\n",
            "IX. Fluorine (F)\n",
            "X. Neon (Ne)\n",
            "\n",
            "I hope this helps me remember the first 10 elements on the periodic table!\n",
            "\n",
            "----End Generation----\n",
            "Num of generated tokens: 110\n",
            "Time for complete generation: 7.801689863204956s\n",
            "Tokens per secound: 14.099509456123355\n",
            "Time per token: 70.92445330186324ms\n"
          ]
        }
      ],
      "source": [
        "# LlAMA-2-7b-chat execution\n",
        "import time\n",
        "start = time.time()\n",
        "NUM_TOKENS=0\n",
        "print('-'*4+'Start Generation'+'-'*4)\n",
        "for token in llm.generate(tokens):\n",
        "    print(llm.detokenize(token), end='', flush=True)\n",
        "    NUM_TOKENS+=1\n",
        "time_generate = time.time() - start\n",
        "print('\\n')\n",
        "print('-'*4+'End Generation'+'-'*4)\n",
        "print(f'Num of generated tokens: {NUM_TOKENS}')\n",
        "print(f'Time for complete generation: {time_generate}s')\n",
        "print(f'Tokens per secound: {NUM_TOKENS/time_generate}')\n",
        "print(f'Time per token: {(time_generate/NUM_TOKENS)*1000}ms')"
      ]
    },
    {
      "cell_type": "markdown",
      "metadata": {
        "id": "unNgyGi1-hSq"
      },
      "source": [
        "## LLAMA-2-13B-Chat tests"
      ]
    },
    {
      "cell_type": "markdown",
      "metadata": {
        "id": "QuwfBncf-nMq"
      },
      "source": [
        "### Tokenizer"
      ]
    },
    {
      "cell_type": "code",
      "execution_count": 15,
      "metadata": {
        "id": "8NKZATpR-vD7"
      },
      "outputs": [],
      "source": [
        "prompt=\"\"\"Given the following set of words, provide a clear and succinct topic label that encapsulates the overall theme or subject represented by these words. Ensure that the label stands out distinctly from any other information provided:\n",
        "['algorithms', 'complexity', 'subgraph', 'graphs', 'nodes', 'edges', 'algorithm', 'vertex', 'matching', 'trees']\"\"\""
      ]
    },
    {
      "cell_type": "code",
      "execution_count": 16,
      "metadata": {
        "id": "pOnlYfEG-mUU"
      },
      "outputs": [],
      "source": [
        "tokens = llm.tokenize(prompt)"
      ]
    },
    {
      "cell_type": "code",
      "execution_count": 17,
      "metadata": {
        "colab": {
          "base_uri": "https://localhost:8080/"
        },
        "id": "kKkb27Od-yGy",
        "outputId": "e6712e2e-8c7b-4a1f-9507-40969d3e7f05"
      },
      "outputs": [
        {
          "data": {
            "text/plain": [
              "[1,\n",
              " 29954,\n",
              " 5428,\n",
              " 278,\n",
              " 1494,\n",
              " 731,\n",
              " 310,\n",
              " 3838,\n",
              " 29892,\n",
              " 3867,\n",
              " 263,\n",
              " 2821,\n",
              " 322,\n",
              " 8348,\n",
              " 5562,\n",
              " 11261,\n",
              " 3858,\n",
              " 393,\n",
              " 2094,\n",
              " 2547,\n",
              " 352,\n",
              " 1078,\n",
              " 278,\n",
              " 12463,\n",
              " 10929,\n",
              " 470,\n",
              " 4967,\n",
              " 9875,\n",
              " 491,\n",
              " 1438,\n",
              " 3838,\n",
              " 29889,\n",
              " 22521,\n",
              " 545,\n",
              " 393,\n",
              " 278,\n",
              " 3858,\n",
              " 15028,\n",
              " 714,\n",
              " 8359,\n",
              " 368,\n",
              " 515,\n",
              " 738,\n",
              " 916,\n",
              " 2472,\n",
              " 4944,\n",
              " 29901,\n",
              " 13,\n",
              " 1839,\n",
              " 9564,\n",
              " 12404,\n",
              " 742,\n",
              " 525,\n",
              " 19676,\n",
              " 537,\n",
              " 742,\n",
              " 525,\n",
              " 1491,\n",
              " 4262,\n",
              " 742,\n",
              " 525,\n",
              " 4262,\n",
              " 29879,\n",
              " 742,\n",
              " 525,\n",
              " 18010,\n",
              " 742,\n",
              " 525,\n",
              " 287,\n",
              " 2710,\n",
              " 742,\n",
              " 525,\n",
              " 20567,\n",
              " 742,\n",
              " 525,\n",
              " 369,\n",
              " 4776,\n",
              " 742,\n",
              " 525,\n",
              " 4352,\n",
              " 292,\n",
              " 742,\n",
              " 525,\n",
              " 28737,\n",
              " 2033]"
            ]
          },
          "execution_count": 17,
          "metadata": {},
          "output_type": "execute_result"
        }
      ],
      "source": [
        "tokens"
      ]
    },
    {
      "cell_type": "markdown",
      "metadata": {
        "id": "OoWAD3bw_OQh"
      },
      "source": [
        "### Pipeline"
      ]
    },
    {
      "cell_type": "code",
      "execution_count": 18,
      "metadata": {
        "colab": {
          "base_uri": "https://localhost:8080/",
          "height": 36
        },
        "id": "v2xoIS60_Pn3",
        "outputId": "107f39a8-e39b-4bb4-9803-956703636e14"
      },
      "outputs": [
        {
          "data": {
            "application/vnd.google.colaboratory.intrinsic+json": {
              "type": "string"
            },
            "text/plain": [
              "'\\n\\nTopic Label: Graph Theory and Algorithms'"
            ]
          },
          "execution_count": 18,
          "metadata": {},
          "output_type": "execute_result"
        }
      ],
      "source": [
        "# 'pipeline' execution\n",
        "llm(prompt, stream=False)"
      ]
    },
    {
      "cell_type": "markdown",
      "metadata": {
        "id": "AyW6vpsK_mWZ"
      },
      "source": [
        "### Stream generation"
      ]
    },
    {
      "cell_type": "code",
      "execution_count": 21,
      "metadata": {
        "colab": {
          "base_uri": "https://localhost:8080/"
        },
        "id": "4xkH5Kc5_tfo",
        "outputId": "312526a4-5e09-43b7-f4e5-aa8cdc71c3e9"
      },
      "outputs": [
        {
          "name": "stdout",
          "output_type": "stream",
          "text": [
            "----Start Generation----\n",
            "\n",
            " \n",
            " Top ic  Label :  Graph  Theory  and  Alg orithms \n",
            "\n",
            "----End Generation----\n",
            "Num of generated tokens: 11\n",
            "Time for complete generation: 0.44943714141845703s\n",
            "Tokens per secound: 24.47505776955412\n",
            "Time per token: 40.85792194713245ms\n"
          ]
        }
      ],
      "source": [
        "# LlAMA-2-13b-chat execution\n",
        "import time\n",
        "start = time.time()\n",
        "NUM_TOKENS=0\n",
        "print('-'*4+'Start Generation'+'-'*4)\n",
        "for token in llm.generate(tokens):\n",
        "    print(llm.detokenize(token), end=' ', flush=True)\n",
        "    NUM_TOKENS+=1\n",
        "time_generate = time.time() - start\n",
        "print('\\n')\n",
        "print('-'*4+'End Generation'+'-'*4)\n",
        "print(f'Num of generated tokens: {NUM_TOKENS}')\n",
        "print(f'Time for complete generation: {time_generate}s')\n",
        "print(f'Tokens per secound: {NUM_TOKENS/time_generate}')\n",
        "print(f'Time per token: {(time_generate/NUM_TOKENS)*1000}ms')"
      ]
    },
    {
      "cell_type": "markdown",
      "metadata": {
        "id": "sstVjp7xALyv"
      },
      "source": [
        "## LangChain Integration"
      ]
    },
    {
      "cell_type": "code",
      "execution_count": 24,
      "metadata": {
        "id": "_DzuejLueP_p"
      },
      "outputs": [],
      "source": [
        "lists_of_words = [\n",
        "    ['algorithms', 'complexity', 'subgraph', 'graphs', 'nodes', 'edges', 'algorithm', 'vertex', 'matching', 'trees'],\n",
        "    ['subgradient', 'minimization', 'optimization', 'gradient', 'stochastic', 'hessian', 'gradients', 'convex', 'convexity', 'regularization'],\n",
        "    ['interventions', 'causal', 'outcomes', 'propensity', 'intervention', 'causation', 'trials', 'observational', 'analyses', 'treatment'],\n",
        "    ['bandits', 'bandit', 'optimal', 'learning', 'regret', 'reward', 'strategy', 'stochastic', 'strategies', 'rewards'],\n",
        "    ['unmanned', 'planning', 'uav', 'robot', 'planner', 'robotic', 'paths', 'robots', 'obstacles', 'planners'],\n",
        "    ['imagenet', 'cnn', 'cnns', 'networks', 'memory', 'neural', 'sparse', 'deep', 'benchmarks', 'layers'],\n",
        "    ['microgrids', 'microgrid', 'electricity', 'renewable', 'optimal', 'scheduling', 'optimization', 'energy', 'turbine', 'power'],\n",
        "    ['backpropagation', 'neural', 'networks', 'gradients', 'neurons', 'deep', 'layers', 'regularization', 'gradient', 'learning'],\n",
        "    ['mimo', 'transmit', 'wireless', 'antennas', 'antenna', 'radio', 'channels', 'multiuser', 'communications', 'channel'],\n",
        "    ['denoising', 'imaging', 'reconstructed', 'tomography', 'convolutional', 'images', 'regularization', 'deep', 'learning', 'mri']\n",
        "]"
      ]
    },
    {
      "cell_type": "code",
      "execution_count": 39,
      "metadata": {
        "id": "espuqslIeWGw"
      },
      "outputs": [],
      "source": [
        "def generate_topic_label_prompt(word_set):\n",
        "    # Convert the word set to a list for formatting\n",
        "    word_list = list(word_set)\n",
        "\n",
        "    # Create the prompt string\n",
        "    prompt = f\"Given the following set of words, provide a clear and succinct topic label that encapsulates the overall theme or subject represented by these words. Ensure that the label stands out distinctly from any other information provided.\\nAlso ensure that nothing other than the topic label is printed.:\\n{word_list}\"\n",
        "\n",
        "    return prompt"
      ]
    },
    {
      "cell_type": "code",
      "execution_count": 37,
      "metadata": {
        "colab": {
          "base_uri": "https://localhost:8080/"
        },
        "id": "WC8Be7fzfWU2",
        "outputId": "09ec06cd-6e34-4ddc-be66-9a886a1ca051"
      },
      "outputs": [
        {
          "name": "stdout",
          "output_type": "stream",
          "text": [
            "0 ['algorithms', 'complexity', 'subgraph', 'graphs', 'nodes', 'edges', 'algorithm', 'vertex', 'matching', 'trees']\n",
            "1 ['subgradient', 'minimization', 'optimization', 'gradient', 'stochastic', 'hessian', 'gradients', 'convex', 'convexity', 'regularization']\n",
            "2 ['interventions', 'causal', 'outcomes', 'propensity', 'intervention', 'causation', 'trials', 'observational', 'analyses', 'treatment']\n",
            "3 ['bandits', 'bandit', 'optimal', 'learning', 'regret', 'reward', 'strategy', 'stochastic', 'strategies', 'rewards']\n",
            "4 ['unmanned', 'planning', 'uav', 'robot', 'planner', 'robotic', 'paths', 'robots', 'obstacles', 'planners']\n",
            "5 ['imagenet', 'cnn', 'cnns', 'networks', 'memory', 'neural', 'sparse', 'deep', 'benchmarks', 'layers']\n",
            "6 ['microgrids', 'microgrid', 'electricity', 'renewable', 'optimal', 'scheduling', 'optimization', 'energy', 'turbine', 'power']\n",
            "7 ['backpropagation', 'neural', 'networks', 'gradients', 'neurons', 'deep', 'layers', 'regularization', 'gradient', 'learning']\n",
            "8 ['mimo', 'transmit', 'wireless', 'antennas', 'antenna', 'radio', 'channels', 'multiuser', 'communications', 'channel']\n",
            "9 ['denoising', 'imaging', 'reconstructed', 'tomography', 'convolutional', 'images', 'regularization', 'deep', 'learning', 'mri']\n"
          ]
        }
      ],
      "source": [
        "output1 = {\n",
        "    0: ['0'],\n",
        "    1: ['1'],\n",
        "    2: ['2'],\n",
        "    3: ['3'],\n",
        "    4: ['4'],\n",
        "    5: ['5'],\n",
        "    6: ['6'],\n",
        "    7: ['7'],\n",
        "    8: ['8'],\n",
        "    9: ['9'],\n",
        "}\n",
        "mapped_output = {}\n",
        "for key, value in output1.items():\n",
        "    words_list = [word for char in value if int(char) < len(lists_of_words) for word in lists_of_words[int(char)]]\n",
        "    generate_topic_label_prompt(words_list)\n",
        "    mapped_output[key] = words_list\n",
        "\n",
        "# Print the mapped output\n",
        "for key, value in mapped_output.items():\n",
        "    print(key, value)"
      ]
    },
    {
      "cell_type": "code",
      "execution_count": 40,
      "metadata": {
        "colab": {
          "base_uri": "https://localhost:8080/"
        },
        "id": "SM9nC-zlfhaM",
        "outputId": "5c469944-4b49-4d2c-c069-87ffb28025fe"
      },
      "outputs": [
        {
          "name": "stdout",
          "output_type": "stream",
          "text": [
            "Given the following set of words, provide a clear and succinct topic label that encapsulates the overall theme or subject represented by these words. Ensure that the label stands out distinctly from any other information provided.\n",
            "Also ensure that nothing other than the topic label is printed.:\n",
            "['algorithms', 'complexity', 'subgraph', 'graphs', 'nodes', 'edges', 'algorithm', 'vertex', 'matching', 'trees']\n",
            "Given the following set of words, provide a clear and succinct topic label that encapsulates the overall theme or subject represented by these words. Ensure that the label stands out distinctly from any other information provided.\n",
            "Also ensure that nothing other than the topic label is printed.:\n",
            "['subgradient', 'minimization', 'optimization', 'gradient', 'stochastic', 'hessian', 'gradients', 'convex', 'convexity', 'regularization']\n",
            "Given the following set of words, provide a clear and succinct topic label that encapsulates the overall theme or subject represented by these words. Ensure that the label stands out distinctly from any other information provided.\n",
            "Also ensure that nothing other than the topic label is printed.:\n",
            "['interventions', 'causal', 'outcomes', 'propensity', 'intervention', 'causation', 'trials', 'observational', 'analyses', 'treatment']\n",
            "Given the following set of words, provide a clear and succinct topic label that encapsulates the overall theme or subject represented by these words. Ensure that the label stands out distinctly from any other information provided.\n",
            "Also ensure that nothing other than the topic label is printed.:\n",
            "['bandits', 'bandit', 'optimal', 'learning', 'regret', 'reward', 'strategy', 'stochastic', 'strategies', 'rewards']\n",
            "Given the following set of words, provide a clear and succinct topic label that encapsulates the overall theme or subject represented by these words. Ensure that the label stands out distinctly from any other information provided.\n",
            "Also ensure that nothing other than the topic label is printed.:\n",
            "['unmanned', 'planning', 'uav', 'robot', 'planner', 'robotic', 'paths', 'robots', 'obstacles', 'planners']\n",
            "Given the following set of words, provide a clear and succinct topic label that encapsulates the overall theme or subject represented by these words. Ensure that the label stands out distinctly from any other information provided.\n",
            "Also ensure that nothing other than the topic label is printed.:\n",
            "['imagenet', 'cnn', 'cnns', 'networks', 'memory', 'neural', 'sparse', 'deep', 'benchmarks', 'layers']\n",
            "Given the following set of words, provide a clear and succinct topic label that encapsulates the overall theme or subject represented by these words. Ensure that the label stands out distinctly from any other information provided.\n",
            "Also ensure that nothing other than the topic label is printed.:\n",
            "['microgrids', 'microgrid', 'electricity', 'renewable', 'optimal', 'scheduling', 'optimization', 'energy', 'turbine', 'power']\n",
            "Given the following set of words, provide a clear and succinct topic label that encapsulates the overall theme or subject represented by these words. Ensure that the label stands out distinctly from any other information provided.\n",
            "Also ensure that nothing other than the topic label is printed.:\n",
            "['backpropagation', 'neural', 'networks', 'gradients', 'neurons', 'deep', 'layers', 'regularization', 'gradient', 'learning']\n",
            "Given the following set of words, provide a clear and succinct topic label that encapsulates the overall theme or subject represented by these words. Ensure that the label stands out distinctly from any other information provided.\n",
            "Also ensure that nothing other than the topic label is printed.:\n",
            "['mimo', 'transmit', 'wireless', 'antennas', 'antenna', 'radio', 'channels', 'multiuser', 'communications', 'channel']\n",
            "Given the following set of words, provide a clear and succinct topic label that encapsulates the overall theme or subject represented by these words. Ensure that the label stands out distinctly from any other information provided.\n",
            "Also ensure that nothing other than the topic label is printed.:\n",
            "['denoising', 'imaging', 'reconstructed', 'tomography', 'convolutional', 'images', 'regularization', 'deep', 'learning', 'mri']\n"
          ]
        }
      ],
      "source": [
        "mapped_output = {}\n",
        "prompts=[]\n",
        "for key, value in output1.items():\n",
        "    words_list = [word for char in value if int(char) < len(lists_of_words) for word in lists_of_words[int(char)]]\n",
        "    pr=generate_topic_label_prompt(words_list)\n",
        "    #print(pr)\n",
        "    prompts.append(pr)\n",
        "    mapped_output[key] = words_list\n",
        "\n",
        "# Print the mapped output\n",
        "for pr in prompts:\n",
        "  print(pr)\n",
        "for key, value in mapped_output.items():\n",
        "    pass\n",
        "    #print(key, value)"
      ]
    },
    {
      "cell_type": "code",
      "execution_count": 44,
      "metadata": {
        "colab": {
          "base_uri": "https://localhost:8080/"
        },
        "id": "Sgcqg3WwfoOd",
        "outputId": "c87302f3-46de-4059-a687-1977985a5ea8"
      },
      "outputs": [
        {
          "name": "stdout",
          "output_type": "stream",
          "text": [
            "<class 'str'>\n",
            "\n",
            "\n",
            "Topic Label: Graph Algorithms\n",
            "<class 'str'>\n",
            "\n",
            "\n",
            "Topic Label: Optimization\n",
            "<class 'str'>\n",
            "\n",
            "\n",
            "Topic Label: Intervention Analysis\n",
            "<class 'str'>\n",
            "\n",
            "\n",
            "Topic Label: Optimization Strategies for Stochastic Environments\n",
            "<class 'str'>\n",
            "\n",
            "\n",
            "Topic Label: Robotics\n",
            "<class 'str'>\n",
            "\n",
            "\n",
            "Topic Label: Neural Networks\n",
            "<class 'str'>\n",
            "\n",
            "\n",
            "Topic Label: Renewable Energy Optimization\n",
            "<class 'str'>\n",
            "\n",
            "\n",
            "Topic Label: Neural Networks\n",
            "<class 'str'>\n",
            "\n",
            "\n",
            "Topic Label: Wireless Communications\n",
            "<class 'str'>\n",
            "\n",
            "\n",
            "Topic Label: Image Denoising and Reconstruction Using Deep Learning Techniques.\n"
          ]
        }
      ],
      "source": [
        "topics=[]\n",
        "for prompt in prompts:\n",
        "  x=llm(prompt, stream=False)\n",
        "  print(type(x))\n",
        "  topics.append(x)\n",
        "  print(x)"
      ]
    },
    {
      "cell_type": "code",
      "execution_count": 45,
      "metadata": {
        "colab": {
          "base_uri": "https://localhost:8080/"
        },
        "id": "Jn211GRZf7bP",
        "outputId": "456bfc30-59f3-4281-8eb6-b68d3dd12faf"
      },
      "outputs": [
        {
          "name": "stdout",
          "output_type": "stream",
          "text": [
            "['\\n\\nTopic Label: Graph Algorithms', '\\n\\nTopic Label: Optimization', '\\n\\nTopic Label: Intervention Analysis', '\\n\\nTopic Label: Optimization Strategies for Stochastic Environments', '\\n\\nTopic Label: Robotics', '\\n\\nTopic Label: Neural Networks', '\\n\\nTopic Label: Renewable Energy Optimization', '\\n\\nTopic Label: Neural Networks', '\\n\\nTopic Label: Wireless Communications', '\\n\\nTopic Label: Image Denoising and Reconstruction Using Deep Learning Techniques.']\n"
          ]
        }
      ],
      "source": [
        "print(topics)"
      ]
    },
    {
      "cell_type": "code",
      "execution_count": 43,
      "metadata": {
        "colab": {
          "base_uri": "https://localhost:8080/"
        },
        "id": "KBjw-bDsgcDC",
        "outputId": "3e165439-1c7a-4f45-c6ed-e8b61bac21fe"
      },
      "outputs": [
        {
          "name": "stdout",
          "output_type": "stream",
          "text": [
            "Extracted Value: 'Graph Algorithms'\n"
          ]
        }
      ],
      "source": [
        "def extract_value(label, text):\n",
        "    \"\"\"\n",
        "    Extracts the value following a specified label in a given text.\n",
        "\n",
        "    Parameters:\n",
        "    - label (str): The label preceding the value to extract.\n",
        "    - text (str): The text from which to extract the value.\n",
        "\n",
        "    Returns:\n",
        "    - str: The extracted value, stripped of leading and trailing whitespace.\n",
        "    \"\"\"\n",
        "    # Find the start of the label\n",
        "    start_index = text.find(label)\n",
        "    if start_index == -1:\n",
        "        return None  # Label not found\n",
        "\n",
        "    # Calculate the start of the value by adding the length of the label\n",
        "    value_start_index = start_index + len(label)\n",
        "\n",
        "    # Extract the substring from the value's start index to the end of the text\n",
        "    value = text[value_start_index:]\n",
        "\n",
        "    # Strip leading and trailing whitespace and return the value\n",
        "    return value.strip()\n",
        "\n",
        "# Example usage:\n",
        "text = \"\\n\\nTopic Label: Graph Algorithms\"\n",
        "label = \"Label:\"\n",
        "value = extract_value(label, text)\n",
        "print(f\"Extracted Value: '{value}'\")\n"
      ]
    },
    {
      "cell_type": "code",
      "execution_count": 56,
      "metadata": {
        "id": "mIqG2clvhjLd"
      },
      "outputs": [],
      "source": [
        "label = \"Label:\"\n",
        "topic_labels=[]\n",
        "for text in topics:\n",
        "  topic_labels.append(extract_value(label,text))"
      ]
    },
    {
      "cell_type": "code",
      "execution_count": 55,
      "metadata": {
        "colab": {
          "base_uri": "https://localhost:8080/"
        },
        "id": "RbuL30rGiFaU",
        "outputId": "ae6195bc-6a6a-4ced-821d-b7cf7d403606"
      },
      "outputs": [
        {
          "name": "stdout",
          "output_type": "stream",
          "text": [
            "Optimization\n"
          ]
        }
      ],
      "source": [
        "print(extract_value(label,topics[1]))"
      ]
    },
    {
      "cell_type": "code",
      "execution_count": 51,
      "metadata": {
        "colab": {
          "base_uri": "https://localhost:8080/",
          "height": 36
        },
        "id": "5z2pzyEMiHf9",
        "outputId": "1d33a0ea-56a5-4d66-d076-03ecbbb905ff"
      },
      "outputs": [
        {
          "data": {
            "application/vnd.google.colaboratory.intrinsic+json": {
              "type": "string"
            },
            "text/plain": [
              "'\\n\\nTopic Label: Graph Algorithms'"
            ]
          },
          "execution_count": 51,
          "metadata": {},
          "output_type": "execute_result"
        }
      ],
      "source": [
        "topics[0]"
      ]
    },
    {
      "cell_type": "code",
      "execution_count": 57,
      "metadata": {
        "colab": {
          "base_uri": "https://localhost:8080/"
        },
        "id": "R3oLluZRmRjR",
        "outputId": "fc0f03d2-f9e6-412d-cd04-a7bf043757a4"
      },
      "outputs": [
        {
          "data": {
            "text/plain": [
              "['Graph Algorithms',\n",
              " 'Optimization',\n",
              " 'Intervention Analysis',\n",
              " 'Optimization Strategies for Stochastic Environments',\n",
              " 'Robotics',\n",
              " 'Neural Networks',\n",
              " 'Renewable Energy Optimization',\n",
              " 'Neural Networks',\n",
              " 'Wireless Communications',\n",
              " 'Image Denoising and Reconstruction Using Deep Learning Techniques.']"
            ]
          },
          "execution_count": 57,
          "metadata": {},
          "output_type": "execute_result"
        }
      ],
      "source": [
        "topic_labels"
      ]
    },
    {
      "cell_type": "code",
      "execution_count": 59,
      "metadata": {
        "colab": {
          "base_uri": "https://localhost:8080/"
        },
        "id": "nXXSBZLkmomf",
        "outputId": "094feca7-e75d-4bb0-e749-089df7276d05"
      },
      "outputs": [
        {
          "name": "stdout",
          "output_type": "stream",
          "text": [
            "{0: 'Graph Algorithms', 1: 'Optimization', 2: 'Intervention Analysis', 3: 'Optimization Strategies for Stochastic Environments', 4: 'Robotics', 5: 'Neural Networks', 6: 'Renewable Energy Optimization', 7: 'Neural Networks', 8: 'Wireless Communications', 9: 'Image Denoising and Reconstruction Using Deep Learning Techniques.'}\n"
          ]
        }
      ],
      "source": [
        "topics_dict={index:topic for index,topic in enumerate(topic_labels)}\n",
        "print(topics_dict)"
      ]
    },
    {
      "cell_type": "code",
      "execution_count": 60,
      "metadata": {
        "id": "BKhSBqUznIjQ"
      },
      "outputs": [],
      "source": [
        "output = {\n",
        "    0: ['0'],\n",
        "    1: ['1'],\n",
        "    2: ['2'],\n",
        "    3: ['3'],\n",
        "    4: ['4'],\n",
        "    5: ['5'],\n",
        "    6: ['6'],\n",
        "    7: ['7'],\n",
        "    8: ['8'],\n",
        "    9: ['9'],\n",
        "    10: ['0', '1'],\n",
        "    11: ['3', '8'],\n",
        "    12: ['5', '6'],\n",
        "    13: ['2', '9'],\n",
        "    14: ['7', '5', '6'],\n",
        "    15: ['4', '0', '1'],\n",
        "    16: ['3', '8', '2', '9'],\n",
        "    17: ['7', '5', '6', '3', '8', '2', '9'],\n",
        "    18: ['4', '0', '1', '7', '5', '6', '3', '8', '2', '9']\n",
        "}"
      ]
    },
    {
      "cell_type": "code",
      "execution_count": 63,
      "metadata": {
        "colab": {
          "base_uri": "https://localhost:8080/"
        },
        "id": "nA-3bHPEnOXP",
        "outputId": "de6b91e6-6af1-4067-ee16-cfed7ab23cbe"
      },
      "outputs": [
        {
          "name": "stdout",
          "output_type": "stream",
          "text": [
            "{0: ['Graph Algorithms'], 1: ['Optimization'], 2: ['Intervention Analysis'], 3: ['Optimization Strategies for Stochastic Environments'], 4: ['Robotics'], 5: ['Neural Networks'], 6: ['Renewable Energy Optimization'], 7: ['Neural Networks'], 8: ['Wireless Communications'], 9: ['Image Denoising and Reconstruction Using Deep Learning Techniques.'], 10: ['Graph Algorithms', 'Optimization'], 11: ['Optimization Strategies for Stochastic Environments', 'Wireless Communications'], 12: ['Neural Networks', 'Renewable Energy Optimization'], 13: ['Intervention Analysis', 'Image Denoising and Reconstruction Using Deep Learning Techniques.'], 14: ['Neural Networks', 'Neural Networks', 'Renewable Energy Optimization'], 15: ['Robotics', 'Graph Algorithms', 'Optimization'], 16: ['Optimization Strategies for Stochastic Environments', 'Wireless Communications', 'Intervention Analysis', 'Image Denoising and Reconstruction Using Deep Learning Techniques.'], 17: ['Neural Networks', 'Neural Networks', 'Renewable Energy Optimization', 'Optimization Strategies for Stochastic Environments', 'Wireless Communications', 'Intervention Analysis', 'Image Denoising and Reconstruction Using Deep Learning Techniques.'], 18: ['Robotics', 'Graph Algorithms', 'Optimization', 'Neural Networks', 'Neural Networks', 'Renewable Energy Optimization', 'Optimization Strategies for Stochastic Environments', 'Wireless Communications', 'Intervention Analysis', 'Image Denoising and Reconstruction Using Deep Learning Techniques.']}\n"
          ]
        }
      ],
      "source": [
        "updated_output={}\n",
        "for key, value_list in output.items():\n",
        "  updated_output[key]=[topics_dict[int(num)] for num in value_list]\n",
        "print(updated_output)"
      ]
    },
    {
      "cell_type": "code",
      "execution_count": 62,
      "metadata": {
        "colab": {
          "base_uri": "https://localhost:8080/"
        },
        "id": "ODBGCO9BnRrW",
        "outputId": "4f750071-efc0-4ce3-8cd3-400b0c5b45ae"
      },
      "outputs": [
        {
          "data": {
            "text/plain": [
              "{0: 'Graph Algorithms',\n",
              " 1: 'Optimization',\n",
              " 2: 'Intervention Analysis',\n",
              " 3: 'Optimization Strategies for Stochastic Environments',\n",
              " 4: 'Robotics',\n",
              " 5: 'Neural Networks',\n",
              " 6: 'Renewable Energy Optimization',\n",
              " 7: 'Neural Networks',\n",
              " 8: 'Wireless Communications',\n",
              " 9: 'Image Denoising and Reconstruction Using Deep Learning Techniques.'}"
            ]
          },
          "execution_count": 62,
          "metadata": {},
          "output_type": "execute_result"
        }
      ],
      "source": [
        "topics_dict"
      ]
    },
    {
      "cell_type": "code",
      "execution_count": 65,
      "metadata": {
        "colab": {
          "base_uri": "https://localhost:8080/"
        },
        "id": "av8TNTuFnm0J",
        "outputId": "cc4f0766-261d-46fe-c425-58b8018a0e48"
      },
      "outputs": [
        {
          "name": "stdout",
          "output_type": "stream",
          "text": [
            "0 ['Graph Algorithms']\n",
            "1 ['Optimization']\n",
            "2 ['Intervention Analysis']\n",
            "3 ['Optimization Strategies for Stochastic Environments']\n",
            "4 ['Robotics']\n",
            "5 ['Neural Networks']\n",
            "6 ['Renewable Energy Optimization']\n",
            "7 ['Neural Networks']\n",
            "8 ['Wireless Communications']\n",
            "9 ['Image Denoising and Reconstruction Using Deep Learning Techniques.']\n",
            "10 ['Graph Algorithms', 'Optimization']\n",
            "11 ['Optimization Strategies for Stochastic Environments', 'Wireless Communications']\n",
            "12 ['Neural Networks', 'Renewable Energy Optimization']\n",
            "13 ['Intervention Analysis', 'Image Denoising and Reconstruction Using Deep Learning Techniques.']\n",
            "14 ['Neural Networks', 'Neural Networks', 'Renewable Energy Optimization']\n",
            "15 ['Robotics', 'Graph Algorithms', 'Optimization']\n",
            "16 ['Optimization Strategies for Stochastic Environments', 'Wireless Communications', 'Intervention Analysis', 'Image Denoising and Reconstruction Using Deep Learning Techniques.']\n",
            "17 ['Neural Networks', 'Neural Networks', 'Renewable Energy Optimization', 'Optimization Strategies for Stochastic Environments', 'Wireless Communications', 'Intervention Analysis', 'Image Denoising and Reconstruction Using Deep Learning Techniques.']\n",
            "18 ['Robotics', 'Graph Algorithms', 'Optimization', 'Neural Networks', 'Neural Networks', 'Renewable Energy Optimization', 'Optimization Strategies for Stochastic Environments', 'Wireless Communications', 'Intervention Analysis', 'Image Denoising and Reconstruction Using Deep Learning Techniques.']\n"
          ]
        }
      ],
      "source": [
        "for k,v in updated_output.items():\n",
        "  print(k,v)"
      ]
    },
    {
      "cell_type": "code",
      "execution_count": 80,
      "metadata": {
        "id": "eACAzCy4n14w"
      },
      "outputs": [],
      "source": [
        "def generate_topic_label_prompt_h(word_set):\n",
        "  word_list=list(word_set)\n",
        "  prompt=f\"Given the following labels, provide a clear and succinct topic label that encapsulates the overall theme or subject represented by these labels. Ensure that the label is hierarchically above the labels provided. Ensure that labels stand out distinctly from any other information provided.\\nAlso ensure that nothing other than the topic label is printed only print the label do not provide explanations.:\\n{word_list}\"\n",
        "  return prompt\n"
      ]
    },
    {
      "cell_type": "code",
      "execution_count": 73,
      "metadata": {
        "colab": {
          "base_uri": "https://localhost:8080/",
          "height": 72
        },
        "id": "3AechHFlqcgY",
        "outputId": "de2d1025-4852-4cb0-a939-a45b095d80ac"
      },
      "outputs": [
        {
          "data": {
            "application/vnd.google.colaboratory.intrinsic+json": {
              "type": "string"
            },
            "text/plain": [
              "\"Given the following labels, provide a clear and succinct topic label that encapsulates the overall theme or subject represented by these labels. Ensure that the label is hierarchically above the labels provided. Ensure that labels stand out distinctly from any other information provided\\nAlso ensure that nothing other than the topic label is printed.:\\n['Graph Algorithms', 'Optimization']\""
            ]
          },
          "execution_count": 73,
          "metadata": {},
          "output_type": "execute_result"
        }
      ],
      "source": [
        "generate_topic_label_prompt_h(updated_output[10])"
      ]
    },
    {
      "cell_type": "code",
      "execution_count": 81,
      "metadata": {
        "colab": {
          "base_uri": "https://localhost:8080/"
        },
        "id": "tpV3A4auoChT",
        "outputId": "120fe19e-73ef-45e9-9c1a-f550fc488671"
      },
      "outputs": [
        {
          "name": "stdout",
          "output_type": "stream",
          "text": [
            "\n",
            "Topic Label: Graph Algorithms and Optimization\n",
            "\n",
            "Explanation: This topic label encapsulates the overall theme of graph algorithms and optimization, which includes various subtopics such as graph traversal, graph partitioning, graph clustering, and optimization techniques for solving graph problems.\n",
            "\n",
            "Topic Label: Optimization\n",
            "\n",
            "Explanation: The above labels are examples of topics that can be grouped under the broader theme of optimization. These labels represent subtopics within the larger topic of optimization, which involves finding the best solution to a problem or set of constraints in order to maximize efficiency, minimize costs, or achieve other desired outcomes.\n",
            "\n",
            "Topic Label: Artificial Intelligence\n",
            "\n",
            "Explanation: These labels are subtopics within the broader theme of Artificial Intelligence.\n",
            "\n",
            "Topic Label: Image Processing and Machine Learning for Medical Imaging\n",
            "\n",
            "Explanation: The intervention analysis and image denoising and reconstruction using deep learning techniques are important topics in the field of medical imaging. These techniques are used to improve the quality of medical images, reduce noise, and enhance diagnostic accuracy. Image processing and machine learning are essential tools for analyzing and interpreting medical images, and these techniques have numerous applications in healthcare, including disease diagnosis, treatment planning, and monitoring.\n",
            "\n",
            "Topic Label: Artificial Intelligence\n",
            "\n",
            "Explanation: These labels are subtopics within the broader theme of Artificial Intelligence.\n",
            "\n",
            "Topic Label: Artificial Intelligence\n",
            "\n",
            "Explanation: The labels provided are all related to Artificial Intelligence, specifically Robotics, Optimization and Graph Algorithms. These labels are all part of the broader theme of Artificial Intelligence, which is a rapidly growing field that involves the development of intelligent machines that can perform tasks that typically require human intelligence.\n",
            "\n",
            "Topic Label: Optimization\n",
            "\n",
            "Explanation: The provided labels are all related to optimization techniques in various fields, including stochastic environments, wireless communications, intervention analysis, and image denoising and reconstruction using deep learning techniques. As such, the topic label \"Optimization\" accurately captures the common theme that connects these labels.\n",
            "\n",
            "Topic Label: Artificial Intelligence\n",
            "\n",
            "Explanation: This label captures the broad theme of artificial intelligence, which encompasses various subtopics such as neural networks, optimization strategies, wireless communications, renewable energy optimization, intervention analysis, and image denoising and reconstruction using deep learning techniques.\n",
            "\n",
            "Topic Label: Artificial Intelligence\n",
            "\n",
            "Explanation: This label captures the broad theme of artificial intelligence, encompassing various subfields such as neural networks, graph algorithms, optimization strategies for stochastic environments, wireless communications, robotics, and renewable energy optimization. The labels are organized under this umbrella topic label to provide a clear and concise overview of the diverse areas within the broader field of artificial intelligence.\n"
          ]
        }
      ],
      "source": [
        "hir_topic_labels=[]\n",
        "for key in range(10,max(updated_output.keys())+1):\n",
        "  value_list=updated_output[key]\n",
        "  word_set=set(value_list)\n",
        "  prompt=generate_topic_label_prompt_h(word_set)\n",
        "  x=llm(prompt,stream=False)\n",
        "  #x=llm(prompt, stream=False)\n",
        "  hir_topic_labels.append(x)\n",
        "  print(f\"{x}\")"
      ]
    },
    {
      "cell_type": "code",
      "execution_count": 82,
      "metadata": {
        "colab": {
          "base_uri": "https://localhost:8080/"
        },
        "id": "r1_8yf6VrhHo",
        "outputId": "c27cfadd-bf13-41e7-d700-59025ac11386"
      },
      "outputs": [
        {
          "data": {
            "text/plain": [
              "['\\nTopic Label: Graph Algorithms and Optimization\\n\\nExplanation: This topic label encapsulates the overall theme of graph algorithms and optimization, which includes various subtopics such as graph traversal, graph partitioning, graph clustering, and optimization techniques for solving graph problems.',\n",
              " '\\nTopic Label: Optimization\\n\\nExplanation: The above labels are examples of topics that can be grouped under the broader theme of optimization. These labels represent subtopics within the larger topic of optimization, which involves finding the best solution to a problem or set of constraints in order to maximize efficiency, minimize costs, or achieve other desired outcomes.',\n",
              " '\\nTopic Label: Artificial Intelligence\\n\\nExplanation: These labels are subtopics within the broader theme of Artificial Intelligence.',\n",
              " '\\nTopic Label: Image Processing and Machine Learning for Medical Imaging\\n\\nExplanation: The intervention analysis and image denoising and reconstruction using deep learning techniques are important topics in the field of medical imaging. These techniques are used to improve the quality of medical images, reduce noise, and enhance diagnostic accuracy. Image processing and machine learning are essential tools for analyzing and interpreting medical images, and these techniques have numerous applications in healthcare, including disease diagnosis, treatment planning, and monitoring.',\n",
              " '\\nTopic Label: Artificial Intelligence\\n\\nExplanation: These labels are subtopics within the broader theme of Artificial Intelligence.',\n",
              " '\\nTopic Label: Artificial Intelligence\\n\\nExplanation: The labels provided are all related to Artificial Intelligence, specifically Robotics, Optimization and Graph Algorithms. These labels are all part of the broader theme of Artificial Intelligence, which is a rapidly growing field that involves the development of intelligent machines that can perform tasks that typically require human intelligence.',\n",
              " '\\nTopic Label: Optimization\\n\\nExplanation: The provided labels are all related to optimization techniques in various fields, including stochastic environments, wireless communications, intervention analysis, and image denoising and reconstruction using deep learning techniques. As such, the topic label \"Optimization\" accurately captures the common theme that connects these labels.',\n",
              " '\\nTopic Label: Artificial Intelligence\\n\\nExplanation: This label captures the broad theme of artificial intelligence, which encompasses various subtopics such as neural networks, optimization strategies, wireless communications, renewable energy optimization, intervention analysis, and image denoising and reconstruction using deep learning techniques.',\n",
              " '\\nTopic Label: Artificial Intelligence\\n\\nExplanation: This label captures the broad theme of artificial intelligence, encompassing various subfields such as neural networks, graph algorithms, optimization strategies for stochastic environments, wireless communications, robotics, and renewable energy optimization. The labels are organized under this umbrella topic label to provide a clear and concise overview of the diverse areas within the broader field of artificial intelligence.']"
            ]
          },
          "execution_count": 82,
          "metadata": {},
          "output_type": "execute_result"
        }
      ],
      "source": [
        "hir_topic_labels"
      ]
    },
    {
      "cell_type": "code",
      "execution_count": 83,
      "metadata": {
        "colab": {
          "base_uri": "https://localhost:8080/"
        },
        "id": "4_XvKE-LsUsw",
        "outputId": "ed09207a-cdbe-4c10-d9cd-33371fb2fdf7"
      },
      "outputs": [
        {
          "name": "stdout",
          "output_type": "stream",
          "text": [
            "Extracted Value: 'Graph Algorithms and Optimization'\n"
          ]
        }
      ],
      "source": [
        "def extract_value_same_line(label, text):\n",
        "    \"\"\"\n",
        "    Extracts the value in the same line following a specified label in a given text.\n",
        "\n",
        "    Parameters:\n",
        "    - label (str): The label preceding the value to extract.\n",
        "    - text (str): The text from which to extract the value.\n",
        "\n",
        "    Returns:\n",
        "    - str: The extracted value from the same line, stripped of leading and trailing whitespace, or None if the label is not found.\n",
        "    \"\"\"\n",
        "    # Find the start of the label\n",
        "    start_index = text.find(label)\n",
        "    if start_index == -1:\n",
        "        return None  # Label not found\n",
        "\n",
        "    # Calculate the start of the value by adding the length of the label\n",
        "    value_start_index = start_index + len(label)\n",
        "\n",
        "    # Find the end of the line (newline character) starting from the label's start index\n",
        "    end_of_line_index = text.find('\\n', value_start_index)\n",
        "    if end_of_line_index == -1:  # If no newline is found, take the rest of the text\n",
        "        value = text[value_start_index:]\n",
        "    else:\n",
        "        # Extract the substring from the value's start index to the end of the line\n",
        "        value = text[value_start_index:end_of_line_index]\n",
        "\n",
        "    # Strip leading and trailing whitespace and return the value\n",
        "    return value.strip()\n",
        "\n",
        "# Example usage:\n",
        "text = \"\\nTopic Label: Graph Algorithms and Optimization\\n\\nExplanation: This topic label encapsulates the overall theme of graph algorithms and optimization, which includes various subtopics such as graph traversal, graph partitioning, graph clustering, and optimization techniques for solving graph problems.\"\n",
        "label = \"Topic Label:\"\n",
        "value = extract_value_same_line(label, text)\n",
        "print(f\"Extracted Value: '{value}'\")\n"
      ]
    },
    {
      "cell_type": "code",
      "execution_count": 85,
      "metadata": {
        "id": "QmTcC5AXvJLy"
      },
      "outputs": [],
      "source": [
        "label=\"Label:\"\n",
        "final_h_labels=[]\n",
        "for h_label in hir_topic_labels:\n",
        "  x=extract_value_same_line(label,h_label)\n",
        "  final_h_labels.append(x)"
      ]
    },
    {
      "cell_type": "code",
      "execution_count": 86,
      "metadata": {
        "colab": {
          "base_uri": "https://localhost:8080/"
        },
        "id": "bjS_EB7yvjvn",
        "outputId": "2407d3cc-3cdc-4857-c14b-01db776295fa"
      },
      "outputs": [
        {
          "data": {
            "text/plain": [
              "['Graph Algorithms and Optimization',\n",
              " 'Optimization',\n",
              " 'Artificial Intelligence',\n",
              " 'Image Processing and Machine Learning for Medical Imaging',\n",
              " 'Artificial Intelligence',\n",
              " 'Artificial Intelligence',\n",
              " 'Optimization',\n",
              " 'Artificial Intelligence',\n",
              " 'Artificial Intelligence']"
            ]
          },
          "execution_count": 86,
          "metadata": {},
          "output_type": "execute_result"
        }
      ],
      "source": [
        "final_h_labels"
      ]
    },
    {
      "cell_type": "code",
      "execution_count": 89,
      "metadata": {
        "colab": {
          "base_uri": "https://localhost:8080/"
        },
        "id": "hOXOmSs4vuY3",
        "outputId": "f453c9ad-7c0f-45c4-8b32-75c0ecc574f7"
      },
      "outputs": [
        {
          "data": {
            "text/plain": [
              "['Graph Algorithms',\n",
              " 'Optimization',\n",
              " 'Intervention Analysis',\n",
              " 'Optimization Strategies for Stochastic Environments',\n",
              " 'Robotics',\n",
              " 'Neural Networks',\n",
              " 'Renewable Energy Optimization',\n",
              " 'Neural Networks',\n",
              " 'Wireless Communications',\n",
              " 'Image Denoising and Reconstruction Using Deep Learning Techniques.']"
            ]
          },
          "execution_count": 89,
          "metadata": {},
          "output_type": "execute_result"
        }
      ],
      "source": [
        "topic_labels"
      ]
    },
    {
      "cell_type": "code",
      "execution_count": 90,
      "metadata": {
        "id": "xcs3egxRxKmp"
      },
      "outputs": [],
      "source": [
        "topic_labels.extend(final_h_labels)"
      ]
    },
    {
      "cell_type": "code",
      "execution_count": 91,
      "metadata": {
        "colab": {
          "base_uri": "https://localhost:8080/"
        },
        "id": "Xa82ubi0xWOC",
        "outputId": "cf15c3ef-0f46-44aa-9fec-4e3f15d0560c"
      },
      "outputs": [
        {
          "data": {
            "text/plain": [
              "['Graph Algorithms',\n",
              " 'Optimization',\n",
              " 'Intervention Analysis',\n",
              " 'Optimization Strategies for Stochastic Environments',\n",
              " 'Robotics',\n",
              " 'Neural Networks',\n",
              " 'Renewable Energy Optimization',\n",
              " 'Neural Networks',\n",
              " 'Wireless Communications',\n",
              " 'Image Denoising and Reconstruction Using Deep Learning Techniques.',\n",
              " 'Graph Algorithms and Optimization',\n",
              " 'Optimization',\n",
              " 'Artificial Intelligence',\n",
              " 'Image Processing and Machine Learning for Medical Imaging',\n",
              " 'Artificial Intelligence',\n",
              " 'Artificial Intelligence',\n",
              " 'Optimization',\n",
              " 'Artificial Intelligence',\n",
              " 'Artificial Intelligence']"
            ]
          },
          "execution_count": 91,
          "metadata": {},
          "output_type": "execute_result"
        }
      ],
      "source": [
        "topic_labels"
      ]
    },
    {
      "cell_type": "code",
      "execution_count": null,
      "metadata": {
        "id": "Kmz4Ah1HxXUC"
      },
      "outputs": [],
      "source": [
        "output = {\n",
        "    0: ['0'],\n",
        "    1: ['1'],\n",
        "    2: ['2'],\n",
        "    3: ['3'],\n",
        "    4: ['4'],\n",
        "    5: ['5'],\n",
        "    6: ['6'],\n",
        "    7: ['7'],\n",
        "    8: ['8'],\n",
        "    9: ['9'],\n",
        "    10: ['0', '1'],\n",
        "    11: ['3', '8'],\n",
        "    12: ['5', '6'],\n",
        "    13: ['2', '9'],\n",
        "    14: ['7', '5', '6'],\n",
        "    15: ['4', '0', '1'],\n",
        "    16: ['3', '8', '2', '9'],\n",
        "    17: ['7', '5', '6', '3', '8', '2', '9'],\n",
        "    18: ['4', '0', '1', '7', '5', '6', '3', '8', '2', '9']\n",
        "}"
      ]
    }
  ],
  "metadata": {
    "accelerator": "GPU",
    "colab": {
      "gpuType": "T4",
      "provenance": []
    },
    "kernelspec": {
      "display_name": "Python 3",
      "name": "python3"
    },
    "language_info": {
      "name": "python"
    },
    "widgets": {
      "application/vnd.jupyter.widget-state+json": {
        "04030d4afb92437988e260ccc896a78e": {
          "model_module": "@jupyter-widgets/controls",
          "model_module_version": "1.5.0",
          "model_name": "DescriptionStyleModel",
          "state": {
            "_model_module": "@jupyter-widgets/controls",
            "_model_module_version": "1.5.0",
            "_model_name": "DescriptionStyleModel",
            "_view_count": null,
            "_view_module": "@jupyter-widgets/base",
            "_view_module_version": "1.2.0",
            "_view_name": "StyleView",
            "description_width": ""
          }
        },
        "09cb1b687b414d8d82c2822f7179b645": {
          "model_module": "@jupyter-widgets/controls",
          "model_module_version": "1.5.0",
          "model_name": "ProgressStyleModel",
          "state": {
            "_model_module": "@jupyter-widgets/controls",
            "_model_module_version": "1.5.0",
            "_model_name": "ProgressStyleModel",
            "_view_count": null,
            "_view_module": "@jupyter-widgets/base",
            "_view_module_version": "1.2.0",
            "_view_name": "StyleView",
            "bar_color": null,
            "description_width": ""
          }
        },
        "0c2be22df6ad429c988d098f2e925921": {
          "model_module": "@jupyter-widgets/base",
          "model_module_version": "1.2.0",
          "model_name": "LayoutModel",
          "state": {
            "_model_module": "@jupyter-widgets/base",
            "_model_module_version": "1.2.0",
            "_model_name": "LayoutModel",
            "_view_count": null,
            "_view_module": "@jupyter-widgets/base",
            "_view_module_version": "1.2.0",
            "_view_name": "LayoutView",
            "align_content": null,
            "align_items": null,
            "align_self": null,
            "border": null,
            "bottom": null,
            "display": null,
            "flex": null,
            "flex_flow": null,
            "grid_area": null,
            "grid_auto_columns": null,
            "grid_auto_flow": null,
            "grid_auto_rows": null,
            "grid_column": null,
            "grid_gap": null,
            "grid_row": null,
            "grid_template_areas": null,
            "grid_template_columns": null,
            "grid_template_rows": null,
            "height": null,
            "justify_content": null,
            "justify_items": null,
            "left": null,
            "margin": null,
            "max_height": null,
            "max_width": null,
            "min_height": null,
            "min_width": null,
            "object_fit": null,
            "object_position": null,
            "order": null,
            "overflow": null,
            "overflow_x": null,
            "overflow_y": null,
            "padding": null,
            "right": null,
            "top": null,
            "visibility": null,
            "width": null
          }
        },
        "1b44d294011e44209cc71b629145d21a": {
          "model_module": "@jupyter-widgets/base",
          "model_module_version": "1.2.0",
          "model_name": "LayoutModel",
          "state": {
            "_model_module": "@jupyter-widgets/base",
            "_model_module_version": "1.2.0",
            "_model_name": "LayoutModel",
            "_view_count": null,
            "_view_module": "@jupyter-widgets/base",
            "_view_module_version": "1.2.0",
            "_view_name": "LayoutView",
            "align_content": null,
            "align_items": null,
            "align_self": null,
            "border": null,
            "bottom": null,
            "display": null,
            "flex": null,
            "flex_flow": null,
            "grid_area": null,
            "grid_auto_columns": null,
            "grid_auto_flow": null,
            "grid_auto_rows": null,
            "grid_column": null,
            "grid_gap": null,
            "grid_row": null,
            "grid_template_areas": null,
            "grid_template_columns": null,
            "grid_template_rows": null,
            "height": null,
            "justify_content": null,
            "justify_items": null,
            "left": null,
            "margin": null,
            "max_height": null,
            "max_width": null,
            "min_height": null,
            "min_width": null,
            "object_fit": null,
            "object_position": null,
            "order": null,
            "overflow": null,
            "overflow_x": null,
            "overflow_y": null,
            "padding": null,
            "right": null,
            "top": null,
            "visibility": null,
            "width": null
          }
        },
        "2018e1d8c06946728cd3f403fcef4192": {
          "model_module": "@jupyter-widgets/controls",
          "model_module_version": "1.5.0",
          "model_name": "ProgressStyleModel",
          "state": {
            "_model_module": "@jupyter-widgets/controls",
            "_model_module_version": "1.5.0",
            "_model_name": "ProgressStyleModel",
            "_view_count": null,
            "_view_module": "@jupyter-widgets/base",
            "_view_module_version": "1.2.0",
            "_view_name": "StyleView",
            "bar_color": null,
            "description_width": ""
          }
        },
        "43bc6c6ad0da43a182e9dda4916fba30": {
          "model_module": "@jupyter-widgets/controls",
          "model_module_version": "1.5.0",
          "model_name": "HTMLModel",
          "state": {
            "_dom_classes": [],
            "_model_module": "@jupyter-widgets/controls",
            "_model_module_version": "1.5.0",
            "_model_name": "HTMLModel",
            "_view_count": null,
            "_view_module": "@jupyter-widgets/controls",
            "_view_module_version": "1.5.0",
            "_view_name": "HTMLView",
            "description": "",
            "description_tooltip": null,
            "layout": "IPY_MODEL_8f5342492fac4188afbcfa15d548ef8a",
            "placeholder": "​",
            "style": "IPY_MODEL_f593783c224842af8ff21941d8d671a9",
            "value": "Fetching 1 files: 100%"
          }
        },
        "5611fe92ba0142c6819c046571e1e0db": {
          "model_module": "@jupyter-widgets/controls",
          "model_module_version": "1.5.0",
          "model_name": "FloatProgressModel",
          "state": {
            "_dom_classes": [],
            "_model_module": "@jupyter-widgets/controls",
            "_model_module_version": "1.5.0",
            "_model_name": "FloatProgressModel",
            "_view_count": null,
            "_view_module": "@jupyter-widgets/controls",
            "_view_module_version": "1.5.0",
            "_view_name": "ProgressView",
            "bar_style": "success",
            "description": "",
            "description_tooltip": null,
            "layout": "IPY_MODEL_5a76736cb3df4194ae554ac80dd56aef",
            "max": 1,
            "min": 0,
            "orientation": "horizontal",
            "style": "IPY_MODEL_2018e1d8c06946728cd3f403fcef4192",
            "value": 1
          }
        },
        "5a76736cb3df4194ae554ac80dd56aef": {
          "model_module": "@jupyter-widgets/base",
          "model_module_version": "1.2.0",
          "model_name": "LayoutModel",
          "state": {
            "_model_module": "@jupyter-widgets/base",
            "_model_module_version": "1.2.0",
            "_model_name": "LayoutModel",
            "_view_count": null,
            "_view_module": "@jupyter-widgets/base",
            "_view_module_version": "1.2.0",
            "_view_name": "LayoutView",
            "align_content": null,
            "align_items": null,
            "align_self": null,
            "border": null,
            "bottom": null,
            "display": null,
            "flex": null,
            "flex_flow": null,
            "grid_area": null,
            "grid_auto_columns": null,
            "grid_auto_flow": null,
            "grid_auto_rows": null,
            "grid_column": null,
            "grid_gap": null,
            "grid_row": null,
            "grid_template_areas": null,
            "grid_template_columns": null,
            "grid_template_rows": null,
            "height": null,
            "justify_content": null,
            "justify_items": null,
            "left": null,
            "margin": null,
            "max_height": null,
            "max_width": null,
            "min_height": null,
            "min_width": null,
            "object_fit": null,
            "object_position": null,
            "order": null,
            "overflow": null,
            "overflow_x": null,
            "overflow_y": null,
            "padding": null,
            "right": null,
            "top": null,
            "visibility": null,
            "width": null
          }
        },
        "7adbc7ed0aa941019d7fd94f83dc3613": {
          "model_module": "@jupyter-widgets/controls",
          "model_module_version": "1.5.0",
          "model_name": "HTMLModel",
          "state": {
            "_dom_classes": [],
            "_model_module": "@jupyter-widgets/controls",
            "_model_module_version": "1.5.0",
            "_model_name": "HTMLModel",
            "_view_count": null,
            "_view_module": "@jupyter-widgets/controls",
            "_view_module_version": "1.5.0",
            "_view_name": "HTMLView",
            "description": "",
            "description_tooltip": null,
            "layout": "IPY_MODEL_0c2be22df6ad429c988d098f2e925921",
            "placeholder": "​",
            "style": "IPY_MODEL_9da5b530524140eab1821ed450dd9c93",
            "value": " 1/1 [00:00&lt;00:00, 45.34it/s]"
          }
        },
        "85d113b815e846a6bb0510b822dae270": {
          "model_module": "@jupyter-widgets/controls",
          "model_module_version": "1.5.0",
          "model_name": "FloatProgressModel",
          "state": {
            "_dom_classes": [],
            "_model_module": "@jupyter-widgets/controls",
            "_model_module_version": "1.5.0",
            "_model_name": "FloatProgressModel",
            "_view_count": null,
            "_view_module": "@jupyter-widgets/controls",
            "_view_module_version": "1.5.0",
            "_view_name": "ProgressView",
            "bar_style": "success",
            "description": "",
            "description_tooltip": null,
            "layout": "IPY_MODEL_1b44d294011e44209cc71b629145d21a",
            "max": 1,
            "min": 0,
            "orientation": "horizontal",
            "style": "IPY_MODEL_09cb1b687b414d8d82c2822f7179b645",
            "value": 1
          }
        },
        "8f3d62d13cee456584974dc7687b7e06": {
          "model_module": "@jupyter-widgets/base",
          "model_module_version": "1.2.0",
          "model_name": "LayoutModel",
          "state": {
            "_model_module": "@jupyter-widgets/base",
            "_model_module_version": "1.2.0",
            "_model_name": "LayoutModel",
            "_view_count": null,
            "_view_module": "@jupyter-widgets/base",
            "_view_module_version": "1.2.0",
            "_view_name": "LayoutView",
            "align_content": null,
            "align_items": null,
            "align_self": null,
            "border": null,
            "bottom": null,
            "display": null,
            "flex": null,
            "flex_flow": null,
            "grid_area": null,
            "grid_auto_columns": null,
            "grid_auto_flow": null,
            "grid_auto_rows": null,
            "grid_column": null,
            "grid_gap": null,
            "grid_row": null,
            "grid_template_areas": null,
            "grid_template_columns": null,
            "grid_template_rows": null,
            "height": null,
            "justify_content": null,
            "justify_items": null,
            "left": null,
            "margin": null,
            "max_height": null,
            "max_width": null,
            "min_height": null,
            "min_width": null,
            "object_fit": null,
            "object_position": null,
            "order": null,
            "overflow": null,
            "overflow_x": null,
            "overflow_y": null,
            "padding": null,
            "right": null,
            "top": null,
            "visibility": null,
            "width": null
          }
        },
        "8f5342492fac4188afbcfa15d548ef8a": {
          "model_module": "@jupyter-widgets/base",
          "model_module_version": "1.2.0",
          "model_name": "LayoutModel",
          "state": {
            "_model_module": "@jupyter-widgets/base",
            "_model_module_version": "1.2.0",
            "_model_name": "LayoutModel",
            "_view_count": null,
            "_view_module": "@jupyter-widgets/base",
            "_view_module_version": "1.2.0",
            "_view_name": "LayoutView",
            "align_content": null,
            "align_items": null,
            "align_self": null,
            "border": null,
            "bottom": null,
            "display": null,
            "flex": null,
            "flex_flow": null,
            "grid_area": null,
            "grid_auto_columns": null,
            "grid_auto_flow": null,
            "grid_auto_rows": null,
            "grid_column": null,
            "grid_gap": null,
            "grid_row": null,
            "grid_template_areas": null,
            "grid_template_columns": null,
            "grid_template_rows": null,
            "height": null,
            "justify_content": null,
            "justify_items": null,
            "left": null,
            "margin": null,
            "max_height": null,
            "max_width": null,
            "min_height": null,
            "min_width": null,
            "object_fit": null,
            "object_position": null,
            "order": null,
            "overflow": null,
            "overflow_x": null,
            "overflow_y": null,
            "padding": null,
            "right": null,
            "top": null,
            "visibility": null,
            "width": null
          }
        },
        "9da5b530524140eab1821ed450dd9c93": {
          "model_module": "@jupyter-widgets/controls",
          "model_module_version": "1.5.0",
          "model_name": "DescriptionStyleModel",
          "state": {
            "_model_module": "@jupyter-widgets/controls",
            "_model_module_version": "1.5.0",
            "_model_name": "DescriptionStyleModel",
            "_view_count": null,
            "_view_module": "@jupyter-widgets/base",
            "_view_module_version": "1.2.0",
            "_view_name": "StyleView",
            "description_width": ""
          }
        },
        "adc293b3893046138baca0c7469192a1": {
          "model_module": "@jupyter-widgets/base",
          "model_module_version": "1.2.0",
          "model_name": "LayoutModel",
          "state": {
            "_model_module": "@jupyter-widgets/base",
            "_model_module_version": "1.2.0",
            "_model_name": "LayoutModel",
            "_view_count": null,
            "_view_module": "@jupyter-widgets/base",
            "_view_module_version": "1.2.0",
            "_view_name": "LayoutView",
            "align_content": null,
            "align_items": null,
            "align_self": null,
            "border": null,
            "bottom": null,
            "display": null,
            "flex": null,
            "flex_flow": null,
            "grid_area": null,
            "grid_auto_columns": null,
            "grid_auto_flow": null,
            "grid_auto_rows": null,
            "grid_column": null,
            "grid_gap": null,
            "grid_row": null,
            "grid_template_areas": null,
            "grid_template_columns": null,
            "grid_template_rows": null,
            "height": null,
            "justify_content": null,
            "justify_items": null,
            "left": null,
            "margin": null,
            "max_height": null,
            "max_width": null,
            "min_height": null,
            "min_width": null,
            "object_fit": null,
            "object_position": null,
            "order": null,
            "overflow": null,
            "overflow_x": null,
            "overflow_y": null,
            "padding": null,
            "right": null,
            "top": null,
            "visibility": null,
            "width": null
          }
        },
        "aedd21464ae24993ae090af9ab890ae5": {
          "model_module": "@jupyter-widgets/base",
          "model_module_version": "1.2.0",
          "model_name": "LayoutModel",
          "state": {
            "_model_module": "@jupyter-widgets/base",
            "_model_module_version": "1.2.0",
            "_model_name": "LayoutModel",
            "_view_count": null,
            "_view_module": "@jupyter-widgets/base",
            "_view_module_version": "1.2.0",
            "_view_name": "LayoutView",
            "align_content": null,
            "align_items": null,
            "align_self": null,
            "border": null,
            "bottom": null,
            "display": null,
            "flex": null,
            "flex_flow": null,
            "grid_area": null,
            "grid_auto_columns": null,
            "grid_auto_flow": null,
            "grid_auto_rows": null,
            "grid_column": null,
            "grid_gap": null,
            "grid_row": null,
            "grid_template_areas": null,
            "grid_template_columns": null,
            "grid_template_rows": null,
            "height": null,
            "justify_content": null,
            "justify_items": null,
            "left": null,
            "margin": null,
            "max_height": null,
            "max_width": null,
            "min_height": null,
            "min_width": null,
            "object_fit": null,
            "object_position": null,
            "order": null,
            "overflow": null,
            "overflow_x": null,
            "overflow_y": null,
            "padding": null,
            "right": null,
            "top": null,
            "visibility": null,
            "width": null
          }
        },
        "bc33302f60e147dbba0db4c339885103": {
          "model_module": "@jupyter-widgets/controls",
          "model_module_version": "1.5.0",
          "model_name": "HTMLModel",
          "state": {
            "_dom_classes": [],
            "_model_module": "@jupyter-widgets/controls",
            "_model_module_version": "1.5.0",
            "_model_name": "HTMLModel",
            "_view_count": null,
            "_view_module": "@jupyter-widgets/controls",
            "_view_module_version": "1.5.0",
            "_view_name": "HTMLView",
            "description": "",
            "description_tooltip": null,
            "layout": "IPY_MODEL_adc293b3893046138baca0c7469192a1",
            "placeholder": "​",
            "style": "IPY_MODEL_fda2722fe0734d428a4decfcbe850bb1",
            "value": " 1/1 [00:00&lt;00:00, 50.53it/s]"
          }
        },
        "bdea712db5dd4f0aa11032bc60b9ba7a": {
          "model_module": "@jupyter-widgets/base",
          "model_module_version": "1.2.0",
          "model_name": "LayoutModel",
          "state": {
            "_model_module": "@jupyter-widgets/base",
            "_model_module_version": "1.2.0",
            "_model_name": "LayoutModel",
            "_view_count": null,
            "_view_module": "@jupyter-widgets/base",
            "_view_module_version": "1.2.0",
            "_view_name": "LayoutView",
            "align_content": null,
            "align_items": null,
            "align_self": null,
            "border": null,
            "bottom": null,
            "display": null,
            "flex": null,
            "flex_flow": null,
            "grid_area": null,
            "grid_auto_columns": null,
            "grid_auto_flow": null,
            "grid_auto_rows": null,
            "grid_column": null,
            "grid_gap": null,
            "grid_row": null,
            "grid_template_areas": null,
            "grid_template_columns": null,
            "grid_template_rows": null,
            "height": null,
            "justify_content": null,
            "justify_items": null,
            "left": null,
            "margin": null,
            "max_height": null,
            "max_width": null,
            "min_height": null,
            "min_width": null,
            "object_fit": null,
            "object_position": null,
            "order": null,
            "overflow": null,
            "overflow_x": null,
            "overflow_y": null,
            "padding": null,
            "right": null,
            "top": null,
            "visibility": null,
            "width": null
          }
        },
        "e64e26a0782b4a959bbff53b3698a218": {
          "model_module": "@jupyter-widgets/controls",
          "model_module_version": "1.5.0",
          "model_name": "HTMLModel",
          "state": {
            "_dom_classes": [],
            "_model_module": "@jupyter-widgets/controls",
            "_model_module_version": "1.5.0",
            "_model_name": "HTMLModel",
            "_view_count": null,
            "_view_module": "@jupyter-widgets/controls",
            "_view_module_version": "1.5.0",
            "_view_name": "HTMLView",
            "description": "",
            "description_tooltip": null,
            "layout": "IPY_MODEL_bdea712db5dd4f0aa11032bc60b9ba7a",
            "placeholder": "​",
            "style": "IPY_MODEL_04030d4afb92437988e260ccc896a78e",
            "value": "Fetching 1 files: 100%"
          }
        },
        "f593783c224842af8ff21941d8d671a9": {
          "model_module": "@jupyter-widgets/controls",
          "model_module_version": "1.5.0",
          "model_name": "DescriptionStyleModel",
          "state": {
            "_model_module": "@jupyter-widgets/controls",
            "_model_module_version": "1.5.0",
            "_model_name": "DescriptionStyleModel",
            "_view_count": null,
            "_view_module": "@jupyter-widgets/base",
            "_view_module_version": "1.2.0",
            "_view_name": "StyleView",
            "description_width": ""
          }
        },
        "f6e6ea248b9041a19fb35079d365cc99": {
          "model_module": "@jupyter-widgets/controls",
          "model_module_version": "1.5.0",
          "model_name": "HBoxModel",
          "state": {
            "_dom_classes": [],
            "_model_module": "@jupyter-widgets/controls",
            "_model_module_version": "1.5.0",
            "_model_name": "HBoxModel",
            "_view_count": null,
            "_view_module": "@jupyter-widgets/controls",
            "_view_module_version": "1.5.0",
            "_view_name": "HBoxView",
            "box_style": "",
            "children": [
              "IPY_MODEL_e64e26a0782b4a959bbff53b3698a218",
              "IPY_MODEL_5611fe92ba0142c6819c046571e1e0db",
              "IPY_MODEL_bc33302f60e147dbba0db4c339885103"
            ],
            "layout": "IPY_MODEL_8f3d62d13cee456584974dc7687b7e06"
          }
        },
        "fda2722fe0734d428a4decfcbe850bb1": {
          "model_module": "@jupyter-widgets/controls",
          "model_module_version": "1.5.0",
          "model_name": "DescriptionStyleModel",
          "state": {
            "_model_module": "@jupyter-widgets/controls",
            "_model_module_version": "1.5.0",
            "_model_name": "DescriptionStyleModel",
            "_view_count": null,
            "_view_module": "@jupyter-widgets/base",
            "_view_module_version": "1.2.0",
            "_view_name": "StyleView",
            "description_width": ""
          }
        },
        "ff3d633cdc7f46df86683aac28aa08be": {
          "model_module": "@jupyter-widgets/controls",
          "model_module_version": "1.5.0",
          "model_name": "HBoxModel",
          "state": {
            "_dom_classes": [],
            "_model_module": "@jupyter-widgets/controls",
            "_model_module_version": "1.5.0",
            "_model_name": "HBoxModel",
            "_view_count": null,
            "_view_module": "@jupyter-widgets/controls",
            "_view_module_version": "1.5.0",
            "_view_name": "HBoxView",
            "box_style": "",
            "children": [
              "IPY_MODEL_43bc6c6ad0da43a182e9dda4916fba30",
              "IPY_MODEL_85d113b815e846a6bb0510b822dae270",
              "IPY_MODEL_7adbc7ed0aa941019d7fd94f83dc3613"
            ],
            "layout": "IPY_MODEL_aedd21464ae24993ae090af9ab890ae5"
          }
        }
      }
    }
  },
  "nbformat": 4,
  "nbformat_minor": 0
}
